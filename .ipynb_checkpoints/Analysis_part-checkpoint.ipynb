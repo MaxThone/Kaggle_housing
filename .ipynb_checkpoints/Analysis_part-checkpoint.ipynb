{
 "cells": [
  {
   "cell_type": "code",
   "execution_count": 2,
   "metadata": {},
   "outputs": [],
   "source": [
    "# MAKE SURE TO START ml_kernel if you want to do ML stuff\n",
    "\n",
    "import numpy as np\n",
    "import pandas as pd"
   ]
  },
  {
   "cell_type": "code",
   "execution_count": null,
   "metadata": {},
   "outputs": [],
   "source": [
    "'''The sklearn.preprocessing package provides several common utility functions and \n",
    "transformer classes to change raw feature vectors into a \n",
    "representation that is more suitable for the downstream estimators.'''"
   ]
  },
  {
   "cell_type": "code",
   "execution_count": null,
   "metadata": {},
   "outputs": [],
   "source": [
    "# basically transformers help with transforming our initial pandas dataframe to some array that is suitable for estimators\n",
    "# we can encapsulate these transformers in pipelines.\n",
    "# As a first step, lets just try using a transformer\n",
    "\n",
    "# honestly though so you first check some stuff with pandas, \n",
    "# but at some point you put everything into transformer classes\n",
    "# even feature selection can go into transformers I suppose\n",
    "# but honestly do you want to put feature selection \n",
    "# in transformer classes?\n",
    "\n",
    "# I suppose so, why not. \n",
    "# could also use spark dataframes for this?"
   ]
  },
  {
   "cell_type": "code",
   "execution_count": 3,
   "metadata": {},
   "outputs": [],
   "source": [
    "df_train = pd.read_csv('data/train.csv')\n",
    "df_test = pd.read_csv('data/test.csv')\n",
    "\n",
    "y_train = df_train.set_index(\"Id\")[\"SalePrice\"]\n",
    "X_train = df_train.set_index(\"Id\").iloc[:,:-1]\n",
    "X_test = df_test.set_index(\"Id\")"
   ]
  },
  {
   "cell_type": "code",
   "execution_count": 14,
   "metadata": {},
   "outputs": [],
   "source": [
    "# Transformer objects:\n",
    "from sklearn.base import TransformerMixin, BaseEstimator, clone"
   ]
  },
  {
   "cell_type": "code",
   "execution_count": 17,
   "metadata": {},
   "outputs": [],
   "source": [
    "# so this is a selector for certain columns\n",
    "# and obviously we could change this\n",
    "class SelectColumnsTransformer(BaseEstimator,TransformerMixin):\n",
    "    \"\"\"A DataFrame transformer that provides column selection\n",
    "    \n",
    "    Allows to select columns by name from pandas dataframes in scikit-\n",
    "    learn pipelines.\n",
    "    \n",
    "    \n",
    "    \"\"\"\n",
    "    def __init__(self,columns = []):\n",
    "        self.columns = columns\n",
    "    \n",
    "    def transform(self,X, **transform_params):\n",
    "        \n",
    "        trans = X.loc[:,self.columns].copy()\n",
    "        return trans\n",
    "    \n",
    "    def fit(self, X,y = None, **fit_params):\n",
    "        \n",
    "        '''dont do anything\n",
    "        \n",
    "        Parameters\n",
    "        -----------\n",
    "        X: pandas Dataframe\n",
    "        y: default None\n",
    "        \n",
    "        Returns\n",
    "        -----------\n",
    "        self\n",
    "        \n",
    "        '''\n",
    "        return self\n",
    "    \n",
    "# Next we can take an object that applies transformations to our \n",
    "# dataframe (notice though there's a difference between fit and transform)\n",
    "\n",
    "class DataFramaFunctionTransformer(BaseEstimator,TransformerMixin):\n",
    "    \n",
    "    def __init__(self, fun, impute = False):\n",
    "        self.func = func\n",
    "        self.impute = impute\n",
    "        self.series = pd.Series()\n",
    "        \n",
    "    def transform(self, X, **transformparams):\n",
    "        \n",
    "        if self.impute:\n",
    "            trans = pd.DataFrame(X).fillna(self.series).copy()\n",
    "        else:\n",
    "            trans = pd.DataFrame(X).apply(self.func).copy()\n",
    "        return trans\n"
   ]
  },
  {
   "cell_type": "code",
   "execution_count": 21,
   "metadata": {},
   "outputs": [],
   "source": [
    "col_list =['OverallQual','OverallCond','SalePrice']"
   ]
  },
  {
   "cell_type": "code",
   "execution_count": 22,
   "metadata": {},
   "outputs": [],
   "source": [
    "select_lol = SelectColumnsTransformer(col_list)"
   ]
  },
  {
   "cell_type": "code",
   "execution_count": 5,
   "metadata": {},
   "outputs": [
    {
     "ename": "NameError",
     "evalue": "name 'select_lol' is not defined",
     "output_type": "error",
     "traceback": [
      "\u001b[0;31m---------------------------------------------------------------------------\u001b[0m",
      "\u001b[0;31mNameError\u001b[0m                                 Traceback (most recent call last)",
      "\u001b[0;32m<ipython-input-5-b395caa4b02a>\u001b[0m in \u001b[0;36m<module>\u001b[0;34m()\u001b[0m\n\u001b[0;32m----> 1\u001b[0;31m \u001b[0mdata_set\u001b[0m \u001b[0;34m=\u001b[0m \u001b[0mselect_lol\u001b[0m\u001b[0;34m.\u001b[0m\u001b[0mtransform\u001b[0m\u001b[0;34m(\u001b[0m\u001b[0mdf_train\u001b[0m\u001b[0;34m)\u001b[0m\u001b[0;34m\u001b[0m\u001b[0m\n\u001b[0m",
      "\u001b[0;31mNameError\u001b[0m: name 'select_lol' is not defined"
     ]
    }
   ],
   "source": [
    "data_set = select_lol.transform(df_train)"
   ]
  },
  {
   "cell_type": "code",
   "execution_count": 51,
   "metadata": {},
   "outputs": [
    {
     "data": {
      "text/plain": [
       "<matplotlib.axes._subplots.AxesSubplot at 0x1187bb2e8>"
      ]
     },
     "execution_count": 51,
     "metadata": {},
     "output_type": "execute_result"
    },
    {
     "data": {
      "image/png": "[encoded data removed]",
      "text/plain": [
       "<Figure size 432x288 with 1 Axes>"
      ]
     },
     "metadata": {},
     "output_type": "display_data"
    }
   ],
   "source": [
    "# OverallQual shows a pretty high correlation with saleprice. \n",
    "# Note however that it is mostly the \n",
    "data_set.plot(kind = 'scatter',x = 'OverallQual',y = 'SalePrice')"
   ]
  },
  {
   "cell_type": "code",
   "execution_count": 73,
   "metadata": {},
   "outputs": [
    {
     "data": {
      "text/plain": [
       "array([[<matplotlib.axes._subplots.AxesSubplot object at 0x119360cf8>]],\n",
       "      dtype=object)"
      ]
     },
     "execution_count": 73,
     "metadata": {},
     "output_type": "execute_result"
    },
    {
     "data": {
      "image/png": "[encoded data removed]",
      "text/plain": [
       "<Figure size 432x288 with 1 Axes>"
      ]
     },
     "metadata": {},
     "output_type": "display_data"
    }
   ],
   "source": [
    "# As we see the saleprice has a logarithmic distribution. As such it probably makes sense to take the log of sale price\n",
    "data_set.hist(['SalePrice'],bins = 40)"
   ]
  },
  {
   "cell_type": "code",
   "execution_count": 4,
   "metadata": {},
   "outputs": [
    {
     "ename": "NameError",
     "evalue": "name 'data_set' is not defined",
     "output_type": "error",
     "traceback": [
      "\u001b[0;31m---------------------------------------------------------------------------\u001b[0m",
      "\u001b[0;31mNameError\u001b[0m                                 Traceback (most recent call last)",
      "\u001b[0;32m<ipython-input-4-c09af1a6b58b>\u001b[0m in \u001b[0;36m<module>\u001b[0;34m()\u001b[0m\n\u001b[0;32m----> 1\u001b[0;31m \u001b[0mnull_dict\u001b[0m \u001b[0;34m=\u001b[0m \u001b[0;34m{\u001b[0m\u001b[0mcol_name\u001b[0m\u001b[0;34m:\u001b[0m\u001b[0mlen\u001b[0m\u001b[0;34m(\u001b[0m\u001b[0mdata_set\u001b[0m\u001b[0;34m.\u001b[0m\u001b[0mloc\u001b[0m\u001b[0;34m[\u001b[0m\u001b[0mpd\u001b[0m\u001b[0;34m.\u001b[0m\u001b[0misnull\u001b[0m\u001b[0;34m(\u001b[0m\u001b[0mdata_set\u001b[0m\u001b[0;34m[\u001b[0m\u001b[0mcol_name\u001b[0m\u001b[0;34m]\u001b[0m\u001b[0;34m)\u001b[0m\u001b[0;34m,\u001b[0m\u001b[0;34m:\u001b[0m\u001b[0;34m]\u001b[0m\u001b[0;34m)\u001b[0m \u001b[0;32mfor\u001b[0m \u001b[0mcol_name\u001b[0m \u001b[0;32min\u001b[0m \u001b[0mdata_set\u001b[0m\u001b[0;34m.\u001b[0m\u001b[0mcolumns\u001b[0m\u001b[0;34m}\u001b[0m\u001b[0;34m\u001b[0m\u001b[0m\n\u001b[0m",
      "\u001b[0;31mNameError\u001b[0m: name 'data_set' is not defined"
     ]
    }
   ],
   "source": [
    "null_dict = {col_name:len(data_set.loc[pd.isnull(data_set[col_name]),:]) for col_name in data_set.columns}"
   ]
  },
  {
   "cell_type": "code",
   "execution_count": 63,
   "metadata": {},
   "outputs": [],
   "source": [
    "# Idea for now: start with an average. Compute the RMSE. Then use Linear Regression using one variable (overallqual)\n",
    "# and honestly, just go from there. \n",
    "avg_sale_price = data_set.agg({'SalePrice': 'mean'}).iloc[0]"
   ]
  },
  {
   "cell_type": "code",
   "execution_count": 64,
   "metadata": {},
   "outputs": [
    {
     "data": {
      "text/plain": [
       "180921.19589041095"
      ]
     },
     "execution_count": 64,
     "metadata": {},
     "output_type": "execute_result"
    }
   ],
   "source": [
    "avg_sale_price"
   ]
  },
  {
   "cell_type": "code",
   "execution_count": null,
   "metadata": {},
   "outputs": [],
   "source": [
    "def compute_total_median(input_df):\n",
    "    \"\"\"\n",
    "    takes pandas dataframe of the final df and computes median for each combination of household, month and product\n",
    "    \"\"\"\n",
    "    # initial values to be used in the median computation\n",
    "    threshold = 20\n",
    "    alpha = 0.05\n",
    "    n = input_df.shape[0]\n",
    "    q = stats.norm.ppf(1 - alpha/2)\n",
    "    \n",
    "    # median + lower/upper bounds computation\n",
    "    # add in a threshold for when the sample size is too small.\n",
    "    if n >= threshold:\n",
    "        lb = (1 - q/np.sqrt(n))/2.0\n",
    "        ub = (1 + q/np.sqrt(n))/2.0\n",
    "        \n",
    "        final_df = input_df.groupby(['product','month_no']).agg(\n",
    "        {'qty': {'LB': lambda x: np.percentile(x,q = lb*100), 'median': lambda x: np.median(x), 'UB': lambda x: np.percentile(x,ub*100)},\n",
    "         'dd': {'LB': lambda x: np.percentile(x, q = lb*100), 'median': lambda x: np.median(x), 'UB': lambda x: np.percentile(x,ub*100)}})\n",
    "    else:\n",
    "        final_df = input_df.groupby(['product','month_no']).agg(\n",
    "        {'qty': {'LB': lambda x: np.median(x), 'median': lambda x: np.median(x), 'UB': lambda x: np.median(x)},\n",
    "         'dd':  {'LB': lambda x:  np.median(x), 'median': lambda x: np.median(x), 'UB': lambda x: np.median(x)}})\n",
    "        \n",
    "    final_df.columns = ['_'.join(col).strip() for col in final_df.columns.values]\n",
    "    final_df.reset_index(inplace=True)\n",
    "    return final_df[output_schema_total.names]"
   ]
  }
 ],
 "metadata": {
  "kernelspec": {
   "display_name": "ml_kernel",
   "language": "python",
   "name": "ml_kernel"
  },
  "language_info": {
   "codemirror_mode": {
    "name": "ipython",
    "version": 3
   },
   "file_extension": ".py",
   "mimetype": "text/x-python",
   "name": "python",
   "nbconvert_exporter": "python",
   "pygments_lexer": "ipython3",
   "version": "3.6.5"
  }
 },
 "nbformat": 4,
 "nbformat_minor": 2
}
